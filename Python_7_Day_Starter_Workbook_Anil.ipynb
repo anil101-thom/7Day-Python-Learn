{
 "cells": [
  {
   "cell_type": "markdown",
   "id": "bfbf6b7b",
   "metadata": {},
   "source": [
    "# 🗓 Day 1: Print, Variables, and Comments\n",
    "\n",
    "### 📘 Topics:\n",
    "- `print()`\n",
    "- Variables\n",
    "- Comments\n",
    "- Types (`int`, `str`, `bool`)"
   ]
  },
  {
   "cell_type": "code",
   "execution_count": null,
   "id": "766513a7",
   "metadata": {},
   "outputs": [],
   "source": [
    "print(\"Hello!\")\n",
    "name = \"Anil\"\n",
    "print(\"Hi\", name)"
   ]
  },
  {
   "cell_type": "markdown",
   "id": "f4d4687c",
   "metadata": {},
   "source": [
    "✅ Try modifying this code and running it. Add your own ideas!"
   ]
  },
  {
   "cell_type": "markdown",
   "id": "860393b2",
   "metadata": {},
   "source": [
    "# 🗓 Day 2: Input and Simple Calculator\n",
    "\n",
    "### 📘 Topics:\n",
    "- `input()`\n",
    "- Type conversion\n",
    "- Simple Calculator project"
   ]
  },
  {
   "cell_type": "code",
   "execution_count": null,
   "id": "86e5efa1",
   "metadata": {},
   "outputs": [],
   "source": [
    "num1 = float(input(\"Enter number: \"))\n",
    "num2 = float(input(\"Another: \"))\n",
    "print(num1 + num2)"
   ]
  },
  {
   "cell_type": "markdown",
   "id": "2ce1b29f",
   "metadata": {},
   "source": [
    "✅ Try modifying this code and running it. Add your own ideas!"
   ]
  },
  {
   "cell_type": "markdown",
   "id": "dda28795",
   "metadata": {},
   "source": [
    "# 🗓 Day 3: Loops and Number Guessing Game\n",
    "\n",
    "### 📘 Topics:\n",
    "- `while`, `for`, `break`\n",
    "- Build a Guessing Game using `random`"
   ]
  },
  {
   "cell_type": "code",
   "execution_count": null,
   "id": "2550b186",
   "metadata": {},
   "outputs": [],
   "source": [
    "import random\n",
    "num = random.randint(1, 10)\n",
    "guess = int(input(\"Guess: \"))"
   ]
  },
  {
   "cell_type": "markdown",
   "id": "174f6210",
   "metadata": {},
   "source": [
    "✅ Try modifying this code and running it. Add your own ideas!"
   ]
  },
  {
   "cell_type": "markdown",
   "id": "751b9712",
   "metadata": {},
   "source": [
    "# 🗓 Day 4: Functions and Rock-Paper-Scissors Game\n",
    "\n",
    "### 📘 Topics:\n",
    "- `def` keyword\n",
    "- Function arguments & return\n",
    "- Rock-Paper-Scissors game"
   ]
  },
  {
   "cell_type": "code",
   "execution_count": null,
   "id": "a3774047",
   "metadata": {},
   "outputs": [],
   "source": [
    "def greet(name):\n",
    "    return \"Hello \" + name\n",
    "\n",
    "print(greet(\"Anil\"))"
   ]
  },
  {
   "cell_type": "markdown",
   "id": "8f4ae8a5",
   "metadata": {},
   "source": [
    "✅ Try modifying this code and running it. Add your own ideas!"
   ]
  },
  {
   "cell_type": "markdown",
   "id": "2c569c30",
   "metadata": {},
   "source": [
    "# 🗓 Day 5: Lists and Basic Operations\n",
    "\n",
    "### 📘 Topics:\n",
    "- Lists: add, remove, sort\n",
    "- Loops over lists\n",
    "- Shopping list project"
   ]
  },
  {
   "cell_type": "code",
   "execution_count": null,
   "id": "06d2e647",
   "metadata": {},
   "outputs": [],
   "source": [
    "shopping = [\"milk\", \"eggs\"]\n",
    "shopping.append(\"bread\")\n",
    "print(shopping)"
   ]
  },
  {
   "cell_type": "markdown",
   "id": "a6977a46",
   "metadata": {},
   "source": [
    "✅ Try modifying this code and running it. Add your own ideas!"
   ]
  },
  {
   "cell_type": "markdown",
   "id": "acb7ea51",
   "metadata": {},
   "source": [
    "# 🗓 Day 6: Dictionaries and Word Counter\n",
    "\n",
    "### 📘 Topics:\n",
    "- Dictionaries: keys, values\n",
    "- Counting words in a sentence"
   ]
  },
  {
   "cell_type": "code",
   "execution_count": null,
   "id": "c1e1fb23",
   "metadata": {},
   "outputs": [],
   "source": [
    "text = \"hello hello world\"\n",
    "counts = {}\n",
    "for word in text.split():\n",
    "    counts[word] = counts.get(word, 0) + 1\n",
    "print(counts)"
   ]
  },
  {
   "cell_type": "markdown",
   "id": "9b9b2ac2",
   "metadata": {},
   "source": [
    "✅ Try modifying this code and running it. Add your own ideas!"
   ]
  },
  {
   "cell_type": "markdown",
   "id": "4717b8c4",
   "metadata": {},
   "source": [
    "# 🗓 Day 7: Final Mini Project – Personal Assistant Bot\n",
    "\n",
    "### 📘 Topics:\n",
    "- Combine everything into a mini assistant that greets, calculates, and answers"
   ]
  },
  {
   "cell_type": "code",
   "execution_count": null,
   "id": "e521f163",
   "metadata": {},
   "outputs": [],
   "source": [
    "def assistant():\n",
    "    name = input(\"Name? \")\n",
    "    print(\"Hello\", name)\n",
    "    print(\"2 + 2 =\", 2 + 2)\n",
    "assistant()"
   ]
  },
  {
   "cell_type": "markdown",
   "id": "6c729a90",
   "metadata": {},
   "source": [
    "✅ Try modifying this code and running it. Add your own ideas!"
   ]
  },
  {
   "cell_type": "markdown",
   "id": "35126c64",
   "metadata": {},
   "source": [
    "🎉 Congrats, Anil! You've completed 7 Days of Python Basics.\n",
    "Let me know when you're ready to move into **data analysis with Pandas + NumPy**!"
   ]
  }
 ],
 "metadata": {},
 "nbformat": 4,
 "nbformat_minor": 5
}